{
  "nbformat": 4,
  "nbformat_minor": 0,
  "metadata": {
    "colab": {
      "name": "Model.ipynb",
      "provenance": [],
      "collapsed_sections": []
    },
    "kernelspec": {
      "name": "python3",
      "display_name": "Python 3"
    },
    "language_info": {
      "name": "python"
    }
  },
  "cells": [
    {
      "cell_type": "code",
      "metadata": {
        "id": "jW_mP22v92sy"
      },
      "source": [
        "!pip install sastrawi"
      ],
      "execution_count": null,
      "outputs": []
    },
    {
      "cell_type": "code",
      "metadata": {
        "colab": {
          "base_uri": "https://localhost:8080/"
        },
        "id": "Dcnr1PKyX5Du",
        "outputId": "bb31c05b-1b1f-458c-fbc2-0606ff9e4dd4"
      },
      "source": [
        "import tensorflow as tf\n",
        "print(tf.__version__)"
      ],
      "execution_count": null,
      "outputs": [
        {
          "output_type": "stream",
          "text": [
            "2.5.0\n"
          ],
          "name": "stdout"
        }
      ]
    },
    {
      "cell_type": "code",
      "metadata": {
        "id": "vJkIBrcDZfCl"
      },
      "source": [
        "from tensorflow.keras.preprocessing.sequence import pad_sequences\n",
        "from tensorflow.keras.layers import Embedding, LSTM, Dense, Dropout, Bidirectional\n",
        "from tensorflow.keras.preprocessing.text import Tokenizer\n",
        "from tensorflow.keras.models import Sequential\n",
        "from tensorflow.keras.optimizers import Adam\n",
        "from tensorflow.keras import regularizers\n",
        "import tensorflow.keras.utils as ku "
      ],
      "execution_count": null,
      "outputs": []
    },
    {
      "cell_type": "code",
      "metadata": {
        "id": "RSwi8-CEZC4N"
      },
      "source": [
        "# Import Dataset\n",
        "import json\n",
        "with open('dataset.json') as json_data:\n",
        "    intents = json.load(json_data)\n",
        "\n",
        "with open('validation.json') as json_data:\n",
        "    validation = json.load(json_data)"
      ],
      "execution_count": null,
      "outputs": []
    },
    {
      "cell_type": "code",
      "metadata": {
        "id": "k1Pa29-NZshZ"
      },
      "source": [
        "# Preprocessing text\n",
        "import re\n",
        "from Sastrawi.Stemmer.StemmerFactory import StemmerFactory\n",
        "from Sastrawi.StopWordRemover.StopWordRemoverFactory import StopWordRemoverFactory\n",
        "def string_preprocessing(text):\n",
        "    # Delete punctuation mark and lowing the text\n",
        "    text = re.sub(r'[^\\w\\s]', '', text)\n",
        "    text.lower()\n",
        "\n",
        "    # create stemmer\n",
        "    factory = StemmerFactory()\n",
        "    stemmer = factory.create_stemmer()\n",
        "    # stemming process\n",
        "    text   = stemmer.stem(text)\n",
        "\n",
        "    #Removing stopwords\n",
        "    factory = StopWordRemoverFactory()\n",
        "    stopword = factory.create_stop_word_remover()\n",
        "    \n",
        "    # Kalimat\n",
        "    output = stopword.remove(text)\n",
        "\n",
        "    return output"
      ],
      "execution_count": null,
      "outputs": []
    },
    {
      "cell_type": "code",
      "metadata": {
        "id": "fE4da8yoZ0ye"
      },
      "source": [
        "# Labelling data\n",
        "def labelling_data(intents):\n",
        "  inputs, targets = [], []\n",
        "  labels = []\n",
        "  response_for_every_label = {}\n",
        "\n",
        "  for intent in intents['intents']:\n",
        "      if intent['intent'] not in labels:\n",
        "          labels.append(intent['intent'])\n",
        "      if intent['intent'] not in response_for_every_label:\n",
        "          response_for_every_label[intent['intent']] = []\n",
        "          \n",
        "      for text in intent['utterances']:\n",
        "          inputs.append(string_preprocessing(text))\n",
        "          targets.append(intent['intent'])\n",
        "          \n",
        "      for response in intent['answers']:\n",
        "          response_for_every_label[intent['intent']].append(response)\n",
        "  return inputs, targets, response_for_every_label"
      ],
      "execution_count": null,
      "outputs": []
    },
    {
      "cell_type": "code",
      "metadata": {
        "id": "FR8yUcNHUPXv"
      },
      "source": [
        "inputs, targets, response_for_every_label = labelling_data(intents)\n",
        "validation_inputs, validation_targets, _ = labelling_data(validation)\n",
        "all = inputs + validation_inputs"
      ],
      "execution_count": null,
      "outputs": []
    },
    {
      "cell_type": "code",
      "metadata": {
        "id": "yuKQFdlAaXTI"
      },
      "source": [
        "# Tokenizing data\n",
        "vocab_size = 100\n",
        "trunc_type='post'\n",
        "padding_type='post'\n",
        "oov_tok = \"<OOV>\"\n",
        "\n",
        "tokenizer = Tokenizer(num_words=vocab_size, oov_token=oov_tok)\n",
        "tokenizer.fit_on_texts(all)\n",
        "\n",
        "word_index = tokenizer.word_index\n",
        "\n",
        "training_sequences = tokenizer.texts_to_sequences(inputs)\n",
        "max_length = np.max([len(d) for d in training_sequences]) + 5\n",
        "training_padded = pad_sequences(training_sequences, maxlen=max_length, padding=padding_type, truncating=trunc_type)\n",
        "\n",
        "validation_sequences = tokenizer.texts_to_sequences(validation_inputs)\n",
        "validation_padded = pad_sequences(validation_sequences, maxlen=max_length, padding=padding_type, truncating=trunc_type)"
      ],
      "execution_count": null,
      "outputs": []
    },
    {
      "cell_type": "code",
      "metadata": {
        "id": "01bAPNh6apMJ"
      },
      "source": [
        "# Saving tokenizing preprocessing\n",
        "import pickle\n",
        "\n",
        "# Pickle format\n",
        "with open('tokenizer.pickle', 'wb') as handle:\n",
        "    pickle.dump(tokenizer, handle, protocol=pickle.HIGHEST_PROTOCOL)\n",
        "\n",
        "# JSON format\n",
        "tokenizer_json = tokenizer.to_json()\n",
        "with open('tokenizer.json', 'w', encoding='utf-8') as f:\n",
        "    f.write(json.dumps(tokenizer_json, ensure_ascii=False))"
      ],
      "execution_count": null,
      "outputs": []
    },
    {
      "cell_type": "code",
      "metadata": {
        "id": "6N0jBHPDZ4uE"
      },
      "source": [
        "# Creating target/label tensor\n",
        "def tensor_label(targets):\n",
        "  word={}\n",
        "  categorical_target=[]\n",
        "  counter=0\n",
        "  for trg in targets:\n",
        "      if trg not in word:\n",
        "          word[trg]=counter\n",
        "          counter+=1\n",
        "      categorical_target.append(word[trg])\n",
        "      \n",
        "      target_tensor = ku.to_categorical(categorical_target, num_classes=len(word), dtype='int32')\n",
        "      target_index_word =  dict((v,k) for k, v in word.items())\n",
        "  return target_tensor, target_index_word"
      ],
      "execution_count": null,
      "outputs": []
    },
    {
      "cell_type": "code",
      "metadata": {
        "id": "bEApo4dGU7Qz"
      },
      "source": [
        "target_training, target_index_word = tensor_label(targets)\n",
        "target_validation, _ = tensor_label(validation_targets)"
      ],
      "execution_count": null,
      "outputs": []
    },
    {
      "cell_type": "code",
      "metadata": {
        "id": "g99lj56G9XOy"
      },
      "source": [
        "# Recreate target index and response dictionary\n",
        "responses = {}\n",
        "for idx in target_index_word.keys():\n",
        "  target_index_word[idx] = response_for_every_label[target_index_word[idx]][0]"
      ],
      "execution_count": null,
      "outputs": []
    },
    {
      "cell_type": "code",
      "metadata": {
        "id": "SNrX9CJiDzZy"
      },
      "source": [
        "# Export response dict to json file\n",
        "with open(\"response.json\", \"w\") as outfile: \n",
        "    json.dump(target_index_word, outfile)"
      ],
      "execution_count": null,
      "outputs": []
    },
    {
      "cell_type": "code",
      "metadata": {
        "id": "afxLZtIVpPD3"
      },
      "source": [
        "# Tuning hyperparameter\n",
        "total_words = len(tokenizer.word_index) + 1\n",
        "embedding_dim = 512\n",
        "epochs = 300\n",
        "output_node = target_training.shape[1]"
      ],
      "execution_count": null,
      "outputs": []
    },
    {
      "cell_type": "code",
      "metadata": {
        "id": "jKV_EhtAZEbb",
        "colab": {
          "base_uri": "https://localhost:8080/"
        },
        "outputId": "a1dc7a6b-368a-475c-f7f7-b8d81426a64f"
      },
      "source": [
        "# Creating model\n",
        "model = Sequential()\n",
        "model.add(Embedding(total_words, embedding_dim))\n",
        "model.add(Bidirectional(LSTM(512, return_sequences = True)))\n",
        "model.add(Dropout(0.5))\n",
        "model.add(LSTM(256, return_sequences = True))\n",
        "model.add(Dropout(0.4))\n",
        "model.add(LSTM(128))\n",
        "model.add(Dropout(0.4))\n",
        "model.add(Dense(total_words, activation='relu', kernel_regularizer=regularizers.l2(0.01)))\n",
        "model.add(Dense(total_words/2, activation='relu', kernel_regularizer=regularizers.l2(0.01)))\n",
        "model.add(Dense(total_words/4, activation='relu', kernel_regularizer=regularizers.l2(0.01)))\n",
        "model.add(Dense(output_node, activation='softmax'))\n",
        "\n",
        "model.compile(loss='categorical_crossentropy', optimizer='adam', metrics=['accuracy'])\n",
        "print(model.summary())"
      ],
      "execution_count": null,
      "outputs": [
        {
          "output_type": "stream",
          "text": [
            "Model: \"sequential_14\"\n",
            "_________________________________________________________________\n",
            "Layer (type)                 Output Shape              Param #   \n",
            "=================================================================\n",
            "embedding_14 (Embedding)     (None, None, 512)         44544     \n",
            "_________________________________________________________________\n",
            "bidirectional_14 (Bidirectio (None, None, 1024)        4198400   \n",
            "_________________________________________________________________\n",
            "dropout_74 (Dropout)         (None, None, 1024)        0         \n",
            "_________________________________________________________________\n",
            "lstm_40 (LSTM)               (None, None, 256)         1311744   \n",
            "_________________________________________________________________\n",
            "dropout_75 (Dropout)         (None, None, 256)         0         \n",
            "_________________________________________________________________\n",
            "lstm_41 (LSTM)               (None, 128)               197120    \n",
            "_________________________________________________________________\n",
            "dropout_76 (Dropout)         (None, 128)               0         \n",
            "_________________________________________________________________\n",
            "dense_55 (Dense)             (None, 87)                11223     \n",
            "_________________________________________________________________\n",
            "dense_56 (Dense)             (None, 43)                3784      \n",
            "_________________________________________________________________\n",
            "dense_57 (Dense)             (None, 21)                924       \n",
            "_________________________________________________________________\n",
            "dense_58 (Dense)             (None, 5)                 110       \n",
            "=================================================================\n",
            "Total params: 5,767,849\n",
            "Trainable params: 5,767,849\n",
            "Non-trainable params: 0\n",
            "_________________________________________________________________\n",
            "None\n"
          ],
          "name": "stdout"
        }
      ]
    },
    {
      "cell_type": "code",
      "metadata": {
        "id": "gm8HOmfeJk8k"
      },
      "source": [
        "# Setting Callbacks\n",
        "\n",
        "class myCallback(tf.keras.callbacks.Callback):\n",
        "  def on_epoch_end(self, epoch, logs={}):\n",
        "    if(logs.get('accuracy')>0.995):\n",
        "      print(\"\\nReached 99.5% accuracy so cancelling training!\")\n",
        "      self.model.stop_training = True\n",
        "\n",
        "callbacks = myCallback()"
      ],
      "execution_count": null,
      "outputs": []
    },
    {
      "cell_type": "code",
      "metadata": {
        "colab": {
          "base_uri": "https://localhost:8080/"
        },
        "id": "aF8vVWlyrTR5",
        "outputId": "e3f7a77e-066b-47cd-d25d-6c5133ab5914"
      },
      "source": [
        "# Training model\n",
        "history = model.fit(training_padded,\n",
        "                    target_training,\n",
        "                    epochs=epochs,\n",
        "                    callbacks = [callbacks],\n",
        "                    validation_data = (validation_padded, target_validation))"
      ],
      "execution_count": null,
      "outputs": [
        {
          "output_type": "stream",
          "text": [
            "Epoch 1/300\n",
            "3/3 [==============================] - 20s 2s/step - loss: 3.4687 - accuracy: 0.1648 - val_loss: 3.4058 - val_accuracy: 0.2800\n",
            "Epoch 2/300\n",
            "3/3 [==============================] - 3s 861ms/step - loss: 3.3886 - accuracy: 0.1538 - val_loss: 3.3302 - val_accuracy: 0.2000\n",
            "Epoch 3/300\n",
            "3/3 [==============================] - 3s 861ms/step - loss: 3.3037 - accuracy: 0.2857 - val_loss: 3.2762 - val_accuracy: 0.2600\n",
            "Epoch 4/300\n",
            "3/3 [==============================] - 3s 852ms/step - loss: 3.2331 - accuracy: 0.2967 - val_loss: 3.2021 - val_accuracy: 0.2600\n",
            "Epoch 5/300\n",
            "3/3 [==============================] - 3s 864ms/step - loss: 3.1588 - accuracy: 0.2747 - val_loss: 3.1066 - val_accuracy: 0.2800\n",
            "Epoch 6/300\n",
            "3/3 [==============================] - 3s 859ms/step - loss: 3.0805 - accuracy: 0.3187 - val_loss: 3.0100 - val_accuracy: 0.4600\n",
            "Epoch 7/300\n",
            "3/3 [==============================] - 3s 834ms/step - loss: 2.9767 - accuracy: 0.3736 - val_loss: 2.8395 - val_accuracy: 0.4800\n",
            "Epoch 8/300\n",
            "3/3 [==============================] - 3s 853ms/step - loss: 2.7870 - accuracy: 0.4835 - val_loss: 2.6657 - val_accuracy: 0.5000\n",
            "Epoch 9/300\n",
            "3/3 [==============================] - 3s 844ms/step - loss: 2.5851 - accuracy: 0.5275 - val_loss: 2.5023 - val_accuracy: 0.4600\n",
            "Epoch 10/300\n",
            "3/3 [==============================] - 3s 853ms/step - loss: 2.4509 - accuracy: 0.4945 - val_loss: 2.4199 - val_accuracy: 0.4200\n",
            "Epoch 11/300\n",
            "3/3 [==============================] - 3s 850ms/step - loss: 2.3144 - accuracy: 0.5055 - val_loss: 2.2418 - val_accuracy: 0.4400\n",
            "Epoch 12/300\n",
            "3/3 [==============================] - 3s 859ms/step - loss: 2.1573 - accuracy: 0.6374 - val_loss: 2.1535 - val_accuracy: 0.6400\n",
            "Epoch 13/300\n",
            "3/3 [==============================] - 3s 848ms/step - loss: 2.0411 - accuracy: 0.7143 - val_loss: 2.0996 - val_accuracy: 0.7200\n",
            "Epoch 14/300\n",
            "3/3 [==============================] - 3s 856ms/step - loss: 1.9042 - accuracy: 0.7692 - val_loss: 1.9508 - val_accuracy: 0.7400\n",
            "Epoch 15/300\n",
            "3/3 [==============================] - 3s 855ms/step - loss: 1.9010 - accuracy: 0.6813 - val_loss: 1.8843 - val_accuracy: 0.7600\n",
            "Epoch 16/300\n",
            "3/3 [==============================] - 3s 845ms/step - loss: 1.8708 - accuracy: 0.6154 - val_loss: 1.8250 - val_accuracy: 0.6000\n",
            "Epoch 17/300\n",
            "3/3 [==============================] - 3s 864ms/step - loss: 1.7070 - accuracy: 0.6923 - val_loss: 1.7377 - val_accuracy: 0.8000\n",
            "Epoch 18/300\n",
            "3/3 [==============================] - 3s 858ms/step - loss: 1.5863 - accuracy: 0.8352 - val_loss: 1.6335 - val_accuracy: 0.8600\n",
            "Epoch 19/300\n",
            "3/3 [==============================] - 3s 860ms/step - loss: 1.5388 - accuracy: 0.8132 - val_loss: 1.5265 - val_accuracy: 0.9200\n",
            "Epoch 20/300\n",
            "3/3 [==============================] - 3s 868ms/step - loss: 1.3921 - accuracy: 0.8901 - val_loss: 1.5236 - val_accuracy: 0.8400\n",
            "Epoch 21/300\n",
            "3/3 [==============================] - 3s 856ms/step - loss: 1.3892 - accuracy: 0.9121 - val_loss: 1.6445 - val_accuracy: 0.7400\n",
            "Epoch 22/300\n",
            "3/3 [==============================] - 3s 860ms/step - loss: 1.2685 - accuracy: 0.9231 - val_loss: 1.3801 - val_accuracy: 0.8800\n",
            "Epoch 23/300\n",
            "3/3 [==============================] - 3s 852ms/step - loss: 1.2008 - accuracy: 0.9560 - val_loss: 1.4713 - val_accuracy: 0.8200\n",
            "Epoch 24/300\n",
            "3/3 [==============================] - 3s 890ms/step - loss: 1.1519 - accuracy: 0.9560 - val_loss: 1.3500 - val_accuracy: 0.9200\n",
            "Epoch 25/300\n",
            "3/3 [==============================] - 3s 865ms/step - loss: 1.0489 - accuracy: 0.9780 - val_loss: 1.4851 - val_accuracy: 0.8800\n",
            "Epoch 26/300\n",
            "3/3 [==============================] - 3s 857ms/step - loss: 1.0104 - accuracy: 0.9780 - val_loss: 1.6076 - val_accuracy: 0.9000\n",
            "Epoch 27/300\n",
            "3/3 [==============================] - 3s 865ms/step - loss: 1.0223 - accuracy: 0.9670 - val_loss: 1.5720 - val_accuracy: 0.9000\n",
            "Epoch 28/300\n",
            "3/3 [==============================] - 3s 877ms/step - loss: 0.9352 - accuracy: 0.9890 - val_loss: 1.3843 - val_accuracy: 0.9000\n",
            "Epoch 29/300\n",
            "3/3 [==============================] - 3s 858ms/step - loss: 0.8974 - accuracy: 1.0000 - val_loss: 1.2076 - val_accuracy: 0.9600\n",
            "\n",
            "Reached 99.5% accuracy so cancelling training!\n"
          ],
          "name": "stdout"
        }
      ]
    },
    {
      "cell_type": "code",
      "metadata": {
        "id": "P_p_mQ-gvsqw",
        "colab": {
          "base_uri": "https://localhost:8080/",
          "height": 544
        },
        "outputId": "30b993c7-2651-45ba-8378-225be1206b38"
      },
      "source": [
        "# Plotting accuracy and loss\n",
        "import matplotlib.pyplot as plt\n",
        "acc = history.history['accuracy']\n",
        "loss = history.history['loss']\n",
        "val_loss = history.history['val_loss']\n",
        "val_acc = history.history['val_accuracy']\n",
        "\n",
        "epochs = range(len(acc))\n",
        "\n",
        "plt.plot(epochs, acc, 'b', label='Training accuracy')\n",
        "plt.plot(epochs, val_acc, 'r', label='Validation accuracy')\n",
        "plt.title('Acccuracy')\n",
        "plt.legend()\n",
        "\n",
        "plt.figure()\n",
        "plt.plot(epochs, loss, 'b', label='Training Loss')\n",
        "plt.plot(epochs, val_loss, 'r', label='Validation Loss')\n",
        "plt.title('Loss')\n",
        "plt.legend()\n",
        "\n",
        "plt.show()"
      ],
      "execution_count": null,
      "outputs": [
        {
          "output_type": "display_data",
          "data": {
            "image/png": "[encoded data removed]",
            "text/plain": [
              "<Figure size 432x288 with 1 Axes>"
            ]
          },
          "metadata": {
            "tags": [],
            "needs_background": "light"
          }
        },
        {
          "output_type": "display_data",
          "data": {
            "image/png": "[encoded data removed]",
            "text/plain": [
              "<Figure size 432x288 with 1 Axes>"
            ]
          },
          "metadata": {
            "tags": [],
            "needs_background": "light"
          }
        }
      ]
    },
    {
      "cell_type": "code",
      "metadata": {
        "colab": {
          "base_uri": "https://localhost:8080/"
        },
        "id": "_zWU25u6mCOy",
        "outputId": "abdf9c6e-9366-4818-80f2-fe5518b9c727"
      },
      "source": [
        "# Inference\n",
        "text = \"saya baru saja menikah dan ingin memperbarui ktp saya\"\n",
        "text = string_preprocessing(text)\n",
        "seq =  tokenizer.texts_to_sequences([text])\n",
        "pad = pad_sequences(seq, maxlen=max_length, padding=padding_type, truncating=trunc_type)\n",
        "predicted = np.argmax(model.predict(pad, verbose=0))\n",
        "target_index_word[predicted].split(\"\\n\")"
      ],
      "execution_count": null,
      "outputs": [
        {
          "output_type": "execute_result",
          "data": {
            "text/plain": [
              "['Untuk memperbarui informasi di e-KTP, Anda perlu menyiapkan e-KTP yang lama dan dokumen pendukung untuk data yang akan diubah seperti:',\n",
              " '-Surat nikah/putusan pengadilan untuk ganti status perkawinan',\n",
              " '-Surat keterangan RT/RW untuk pindah alamat domisili. Bisa diurus hingga tingkat kelurahan.',\n",
              " '-Ijazah, jika ingin menambah gelar',\n",
              " '-Surat keterangan dari instansi untuk mengubah status pekerjaan',\n",
              " '-Akta kelahiran',\n",
              " '-Fotokopi salinan surat keterangan dari pemuka agama untuk mengubah data agama jika ada perbedaan data.',\n",
              " 'Kemudian Anda dapat membawa berkas-berkas tadi ke Dinas Kependudukan dan Pencatatan Sipil (Dukcapil), beberapa wilayah sudah bisa diurus di tingkat kelurahan tempat domisili Anda. Setelah petugas memperoleh persyaratan yang diperlukan, petugas akan memberikan resi untuk pengambilan e-KTP nanti. Tunggu maksimal 14 hari kerja untuk memperoleh e-KTP baru dengan membawa e-KTP lama, KK, dan resi.']"
            ]
          },
          "metadata": {
            "tags": []
          },
          "execution_count": 146
        }
      ]
    },
    {
      "cell_type": "code",
      "metadata": {
        "id": "c7Z3h4zSVEb3"
      },
      "source": [
        "# Saving ML model\n",
        "saved_model_path = \"./nlp.h5\"\n",
        "\n",
        "model.save(saved_model_path)"
      ],
      "execution_count": null,
      "outputs": []
    },
    {
      "cell_type": "code",
      "metadata": {
        "id": "GFjc5eDBfzib"
      },
      "source": [
        "!pip install tensorflowjs"
      ],
      "execution_count": null,
      "outputs": []
    },
    {
      "cell_type": "code",
      "metadata": {
        "id": "3IACPaXTVMwj"
      },
      "source": [
        "# Import model to json (optional, if don't want use h5 format)\n",
        "!tensorflowjs_converter --input_format=keras {saved_model_path} ./"
      ],
      "execution_count": null,
      "outputs": []
    }
  ]
}