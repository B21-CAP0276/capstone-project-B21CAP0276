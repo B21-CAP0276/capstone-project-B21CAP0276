{
  "nbformat": 4,
  "nbformat_minor": 0,
  "metadata": {
    "colab": {
      "name": "Model.ipynb",
      "provenance": [],
      "collapsed_sections": []
    },
    "kernelspec": {
      "name": "python3",
      "display_name": "Python 3"
    },
    "language_info": {
      "name": "python"
    }
  },
  "cells": [
    {
      "cell_type": "code",
      "metadata": {
        "colab": {
          "base_uri": "https://localhost:8080/"
        },
        "id": "Dcnr1PKyX5Du",
        "outputId": "f73d32a5-c3cb-442e-ec38-740fee4ff2b5"
      },
      "source": [
        "import tensorflow as tf\n",
        "print(tf.__version__)"
      ],
      "execution_count": null,
      "outputs": [
        {
          "output_type": "stream",
          "text": [
            "1.19.5\n"
          ],
          "name": "stdout"
        }
      ]
    },
    {
      "cell_type": "code",
      "metadata": {
        "id": "vJkIBrcDZfCl"
      },
      "source": [
        "from tensorflow.keras.preprocessing.sequence import pad_sequences\n",
        "from tensorflow.keras.layers import Embedding, LSTM, Dense, Dropout, Bidirectional\n",
        "from tensorflow.keras.preprocessing.text import Tokenizer\n",
        "from tensorflow.keras.models import Sequential\n",
        "from tensorflow.keras.optimizers import Adam\n",
        "from tensorflow.keras import regularizers\n",
        "import tensorflow.keras.utils as ku \n",
        "import numpy as np "
      ],
      "execution_count": null,
      "outputs": []
    },
    {
      "cell_type": "code",
      "metadata": {
        "id": "RSwi8-CEZC4N"
      },
      "source": [
        "# Import Dataset\n",
        "import json\n",
        "with open('dataset.json') as json_data:\n",
        "    intents = json.load(json_data)"
      ],
      "execution_count": null,
      "outputs": []
    },
    {
      "cell_type": "code",
      "metadata": {
        "id": "k1Pa29-NZshZ"
      },
      "source": [
        "# Delete punctuation mark and lowing the text\n",
        "import re\n",
        "def string_preprocessing(text):\n",
        "    text = re.sub(r'[^\\w\\s]', '', text)\n",
        "    return text.lower()"
      ],
      "execution_count": null,
      "outputs": []
    },
    {
      "cell_type": "code",
      "metadata": {
        "id": "fE4da8yoZ0ye"
      },
      "source": [
        "#Labelling data\n",
        "inputs, targets = [], []\n",
        "labels = []\n",
        "response_for_every_label = {}\n",
        "\n",
        "for intent in intents['intents']:\n",
        "    if intent['intent'] not in labels:\n",
        "        labels.append(intent['intent'])\n",
        "    if intent['intent'] not in response_for_every_label:\n",
        "        response_for_every_label[intent['intent']] = []\n",
        "        \n",
        "    for text in intent['utterances']:\n",
        "        inputs.append(string_preprocessing(text))\n",
        "        targets.append(intent['intent'])\n",
        "        \n",
        "    for response in intent['answers']:\n",
        "        response_for_every_label[intent['intent']].append(response)"
      ],
      "execution_count": null,
      "outputs": []
    },
    {
      "cell_type": "code",
      "metadata": {
        "id": "yuKQFdlAaXTI"
      },
      "source": [
        "# Tokenizing data\n",
        "vocab_size = 100\n",
        "trunc_type='post'\n",
        "padding_type='post'\n",
        "oov_tok = \"<OOV>\"\n",
        "\n",
        "tokenizer = Tokenizer(num_words=vocab_size, oov_token=oov_tok)\n",
        "tokenizer.fit_on_texts(inputs)\n",
        "\n",
        "word_index = tokenizer.word_index\n",
        "\n",
        "training_sequences = tokenizer.texts_to_sequences(inputs)\n",
        "max_length = np.max([len(d) for d in training_sequences]) + 5\n",
        "training_padded = pad_sequences(training_sequences, maxlen=max_length, padding=padding_type, truncating=trunc_type)"
      ],
      "execution_count": null,
      "outputs": []
    },
    {
      "cell_type": "code",
      "metadata": {
        "colab": {
          "base_uri": "https://localhost:8080/"
        },
        "id": "01bAPNh6apMJ",
        "outputId": "f1b6e6aa-6f84-4c00-ce52-e038f7607f76"
      },
      "source": [
        "# Saving tokenizing preprocessing\n",
        "import pickle\n",
        "\n",
        "# saving\n",
        "with open('tokenizer.pickle', 'wb') as handle:\n",
        "    pickle.dump(tokenizer, handle, protocol=pickle.HIGHEST_PROTOCOL)"
      ],
      "execution_count": null,
      "outputs": [
        {
          "output_type": "execute_result",
          "data": {
            "text/plain": [
              "array([[ 4,  0,  0, ...,  0,  0,  0],\n",
              "       [ 4,  6,  0, ...,  0,  0,  0],\n",
              "       [33,  4,  0, ...,  0,  0,  0],\n",
              "       ...,\n",
              "       [ 5,  9,  0, ...,  0,  0,  0],\n",
              "       [ 2, 25,  0, ...,  0,  0,  0],\n",
              "       [ 5,  9,  0, ...,  0,  0,  0]], dtype=int32)"
            ]
          },
          "metadata": {
            "tags": []
          },
          "execution_count": 21
        }
      ]
    },
    {
      "cell_type": "code",
      "metadata": {
        "id": "6N0jBHPDZ4uE"
      },
      "source": [
        "# Creating target/label tensor\n",
        "word={}\n",
        "categorical_target=[]\n",
        "counter=0\n",
        "for trg in targets:\n",
        "    if trg not in word:\n",
        "        word[trg]=counter\n",
        "        counter+=1\n",
        "    categorical_target.append(word[trg])\n",
        "    \n",
        "    target_tensor = ku.to_categorical(categorical_target, num_classes=len(word), dtype='int32')\n",
        "    target_index_word =  dict((v,k) for k, v in word.items())"
      ],
      "execution_count": null,
      "outputs": []
    },
    {
      "cell_type": "code",
      "metadata": {
        "id": "afxLZtIVpPD3"
      },
      "source": [
        "# Tuning hyperparameter\n",
        "total_words = len(tokenizer.word_index) + 1\n",
        "embedding_dim = 512\n",
        "epochs = 100\n",
        "output_node = target_tensor.shape[1]"
      ],
      "execution_count": null,
      "outputs": []
    },
    {
      "cell_type": "code",
      "metadata": {
        "id": "jKV_EhtAZEbb",
        "colab": {
          "base_uri": "https://localhost:8080/"
        },
        "outputId": "3594f5fe-e8bd-4bf4-e610-f788805eb777"
      },
      "source": [
        "# Creating model\n",
        "model = Sequential()\n",
        "model.add(Embedding(total_words, embedding_dim))\n",
        "model.add(Bidirectional(LSTM(512, return_sequences = True)))\n",
        "model.add(Dropout(0.5))\n",
        "model.add(LSTM(256))\n",
        "model.add(Dropout(0.2))\n",
        "model.add(Dense(total_words, activation='relu', kernel_regularizer=regularizers.l2(0.01)))\n",
        "model.add(Dropout(0.2))\n",
        "model.add(Dense(total_words/4, activation='relu', kernel_regularizer=regularizers.l2(0.01)))\n",
        "model.add(Dropout(0.2))\n",
        "model.add(Dense(output_node, activation='softmax'))\n",
        "\n",
        "model.compile(loss='categorical_crossentropy', optimizer='adam', metrics=['accuracy'])\n",
        "print(model.summary())"
      ],
      "execution_count": null,
      "outputs": [
        {
          "output_type": "stream",
          "text": [
            "Model: \"sequential_1\"\n",
            "_________________________________________________________________\n",
            "Layer (type)                 Output Shape              Param #   \n",
            "=================================================================\n",
            "embedding (Embedding)        (None, None, 512)         35840     \n",
            "_________________________________________________________________\n",
            "bidirectional (Bidirectional (None, None, 1024)        4198400   \n",
            "_________________________________________________________________\n",
            "dropout (Dropout)            (None, None, 1024)        0         \n",
            "_________________________________________________________________\n",
            "lstm_1 (LSTM)                (None, 256)               1311744   \n",
            "_________________________________________________________________\n",
            "dropout_1 (Dropout)          (None, 256)               0         \n",
            "_________________________________________________________________\n",
            "dense (Dense)                (None, 70)                17990     \n",
            "_________________________________________________________________\n",
            "dropout_2 (Dropout)          (None, 70)                0         \n",
            "_________________________________________________________________\n",
            "dense_1 (Dense)              (None, 17)                1207      \n",
            "_________________________________________________________________\n",
            "dropout_3 (Dropout)          (None, 17)                0         \n",
            "_________________________________________________________________\n",
            "dense_2 (Dense)              (None, 5)                 90        \n",
            "=================================================================\n",
            "Total params: 5,565,271\n",
            "Trainable params: 5,565,271\n",
            "Non-trainable params: 0\n",
            "_________________________________________________________________\n",
            "None\n"
          ],
          "name": "stdout"
        }
      ]
    },
    {
      "cell_type": "code",
      "metadata": {
        "colab": {
          "base_uri": "https://localhost:8080/"
        },
        "id": "aF8vVWlyrTR5",
        "outputId": "2bfc03ef-6625-4208-8bd7-12b96538a5f7"
      },
      "source": [
        "# Training model\n",
        "history = model.fit(training_padded, target_tensor, epochs=epochs, verbose=1)"
      ],
      "execution_count": null,
      "outputs": [
        {
          "output_type": "stream",
          "text": [
            "Epoch 1/100\n",
            "3/3 [==============================] - 7s 661ms/step - loss: 2.9576 - accuracy: 0.2326\n",
            "Epoch 2/100\n",
            "3/3 [==============================] - 2s 693ms/step - loss: 2.8964 - accuracy: 0.2093\n",
            "Epoch 3/100\n",
            "3/3 [==============================] - 2s 658ms/step - loss: 2.8149 - accuracy: 0.2209\n",
            "Epoch 4/100\n",
            "3/3 [==============================] - 2s 642ms/step - loss: 2.7497 - accuracy: 0.2326\n",
            "Epoch 5/100\n",
            "3/3 [==============================] - 2s 657ms/step - loss: 2.6740 - accuracy: 0.3256\n",
            "Epoch 6/100\n",
            "3/3 [==============================] - 2s 650ms/step - loss: 2.6299 - accuracy: 0.2674\n",
            "Epoch 7/100\n",
            "3/3 [==============================] - 2s 655ms/step - loss: 2.5465 - accuracy: 0.3372\n",
            "Epoch 8/100\n",
            "3/3 [==============================] - 2s 663ms/step - loss: 2.3949 - accuracy: 0.3953\n",
            "Epoch 9/100\n",
            "3/3 [==============================] - 2s 654ms/step - loss: 2.1361 - accuracy: 0.4884\n",
            "Epoch 10/100\n",
            "3/3 [==============================] - 2s 656ms/step - loss: 2.0064 - accuracy: 0.5233\n",
            "Epoch 11/100\n",
            "3/3 [==============================] - 2s 652ms/step - loss: 1.8609 - accuracy: 0.5698\n",
            "Epoch 12/100\n",
            "3/3 [==============================] - 2s 656ms/step - loss: 1.8160 - accuracy: 0.5233\n",
            "Epoch 13/100\n",
            "3/3 [==============================] - 2s 689ms/step - loss: 1.6339 - accuracy: 0.6512\n",
            "Epoch 14/100\n",
            "3/3 [==============================] - 2s 652ms/step - loss: 1.6149 - accuracy: 0.7093\n",
            "Epoch 15/100\n",
            "3/3 [==============================] - 2s 701ms/step - loss: 1.5594 - accuracy: 0.6395\n",
            "Epoch 16/100\n",
            "3/3 [==============================] - 2s 660ms/step - loss: 1.3657 - accuracy: 0.7442\n",
            "Epoch 17/100\n",
            "3/3 [==============================] - 2s 673ms/step - loss: 1.4437 - accuracy: 0.7442\n",
            "Epoch 18/100\n",
            "3/3 [==============================] - 2s 689ms/step - loss: 1.0934 - accuracy: 0.9070\n",
            "Epoch 19/100\n",
            "3/3 [==============================] - 2s 654ms/step - loss: 1.1646 - accuracy: 0.8488\n",
            "Epoch 20/100\n",
            "3/3 [==============================] - 2s 659ms/step - loss: 1.0805 - accuracy: 0.8605\n",
            "Epoch 21/100\n",
            "3/3 [==============================] - 2s 648ms/step - loss: 1.0022 - accuracy: 0.8837\n",
            "Epoch 22/100\n",
            "3/3 [==============================] - 2s 652ms/step - loss: 0.9918 - accuracy: 0.9186\n",
            "Epoch 23/100\n",
            "3/3 [==============================] - 2s 647ms/step - loss: 1.0576 - accuracy: 0.8372\n",
            "Epoch 24/100\n",
            "3/3 [==============================] - 2s 647ms/step - loss: 0.9118 - accuracy: 0.8837\n",
            "Epoch 25/100\n",
            "3/3 [==============================] - 2s 663ms/step - loss: 0.8325 - accuracy: 0.9186\n",
            "Epoch 26/100\n",
            "3/3 [==============================] - 2s 646ms/step - loss: 0.7490 - accuracy: 0.9651\n",
            "Epoch 27/100\n",
            "3/3 [==============================] - 2s 636ms/step - loss: 0.7423 - accuracy: 0.9535\n",
            "Epoch 28/100\n",
            "3/3 [==============================] - 2s 656ms/step - loss: 0.7400 - accuracy: 0.9419\n",
            "Epoch 29/100\n",
            "3/3 [==============================] - 2s 680ms/step - loss: 0.7385 - accuracy: 0.9535\n",
            "Epoch 30/100\n",
            "3/3 [==============================] - 2s 685ms/step - loss: 0.7864 - accuracy: 0.9186\n",
            "Epoch 31/100\n",
            "3/3 [==============================] - 2s 690ms/step - loss: 0.8773 - accuracy: 0.9302\n",
            "Epoch 32/100\n",
            "3/3 [==============================] - 2s 652ms/step - loss: 0.6336 - accuracy: 0.9767\n",
            "Epoch 33/100\n",
            "3/3 [==============================] - 2s 659ms/step - loss: 0.6891 - accuracy: 0.9419\n",
            "Epoch 34/100\n",
            "3/3 [==============================] - 2s 654ms/step - loss: 0.6460 - accuracy: 0.9535\n",
            "Epoch 35/100\n",
            "3/3 [==============================] - 2s 668ms/step - loss: 1.4664 - accuracy: 0.7907\n",
            "Epoch 36/100\n",
            "3/3 [==============================] - 2s 667ms/step - loss: 0.9825 - accuracy: 0.8140\n",
            "Epoch 37/100\n",
            "3/3 [==============================] - 2s 675ms/step - loss: 0.7732 - accuracy: 0.8721\n",
            "Epoch 38/100\n",
            "3/3 [==============================] - 2s 656ms/step - loss: 0.8133 - accuracy: 0.8256\n",
            "Epoch 39/100\n",
            "3/3 [==============================] - 2s 663ms/step - loss: 0.7492 - accuracy: 0.9186\n",
            "Epoch 40/100\n",
            "3/3 [==============================] - 2s 639ms/step - loss: 0.6851 - accuracy: 0.9186\n",
            "Epoch 41/100\n",
            "3/3 [==============================] - 2s 647ms/step - loss: 0.6292 - accuracy: 0.9535\n",
            "Epoch 42/100\n",
            "3/3 [==============================] - 2s 690ms/step - loss: 0.5994 - accuracy: 0.9535\n",
            "Epoch 43/100\n",
            "3/3 [==============================] - 2s 655ms/step - loss: 0.5791 - accuracy: 0.9535\n",
            "Epoch 44/100\n",
            "3/3 [==============================] - 2s 671ms/step - loss: 0.5262 - accuracy: 0.9767\n",
            "Epoch 45/100\n",
            "3/3 [==============================] - 2s 639ms/step - loss: 0.4746 - accuracy: 1.0000\n",
            "Epoch 46/100\n",
            "3/3 [==============================] - 2s 652ms/step - loss: 0.4513 - accuracy: 0.9884\n",
            "Epoch 47/100\n",
            "3/3 [==============================] - 2s 698ms/step - loss: 0.4979 - accuracy: 0.9767\n",
            "Epoch 48/100\n",
            "3/3 [==============================] - 2s 668ms/step - loss: 0.4292 - accuracy: 1.0000\n",
            "Epoch 49/100\n",
            "3/3 [==============================] - 2s 655ms/step - loss: 0.4274 - accuracy: 1.0000\n",
            "Epoch 50/100\n",
            "3/3 [==============================] - 2s 648ms/step - loss: 0.4013 - accuracy: 1.0000\n",
            "Epoch 51/100\n",
            "3/3 [==============================] - 2s 642ms/step - loss: 0.4506 - accuracy: 0.9535\n",
            "Epoch 52/100\n",
            "3/3 [==============================] - 2s 636ms/step - loss: 0.4001 - accuracy: 0.9884\n",
            "Epoch 53/100\n",
            "3/3 [==============================] - 2s 646ms/step - loss: 0.3746 - accuracy: 1.0000\n",
            "Epoch 54/100\n",
            "3/3 [==============================] - 2s 642ms/step - loss: 0.4034 - accuracy: 0.9884\n",
            "Epoch 55/100\n",
            "3/3 [==============================] - 2s 653ms/step - loss: 0.4104 - accuracy: 0.9767\n",
            "Epoch 56/100\n",
            "3/3 [==============================] - 2s 646ms/step - loss: 0.3657 - accuracy: 1.0000\n",
            "Epoch 57/100\n",
            "3/3 [==============================] - 2s 661ms/step - loss: 0.3748 - accuracy: 1.0000\n",
            "Epoch 58/100\n",
            "3/3 [==============================] - 2s 673ms/step - loss: 0.3540 - accuracy: 1.0000\n",
            "Epoch 59/100\n",
            "3/3 [==============================] - 2s 660ms/step - loss: 0.3480 - accuracy: 1.0000\n",
            "Epoch 60/100\n",
            "3/3 [==============================] - 2s 650ms/step - loss: 0.3632 - accuracy: 1.0000\n",
            "Epoch 61/100\n",
            "3/3 [==============================] - 2s 652ms/step - loss: 0.3657 - accuracy: 1.0000\n",
            "Epoch 62/100\n",
            "3/3 [==============================] - 2s 633ms/step - loss: 0.3420 - accuracy: 1.0000\n",
            "Epoch 63/100\n",
            "3/3 [==============================] - 2s 640ms/step - loss: 0.3305 - accuracy: 1.0000\n",
            "Epoch 64/100\n",
            "3/3 [==============================] - 2s 688ms/step - loss: 0.3284 - accuracy: 1.0000\n",
            "Epoch 65/100\n",
            "3/3 [==============================] - 2s 658ms/step - loss: 0.3377 - accuracy: 0.9767\n",
            "Epoch 66/100\n",
            "3/3 [==============================] - 2s 674ms/step - loss: 0.3069 - accuracy: 1.0000\n",
            "Epoch 67/100\n",
            "3/3 [==============================] - 2s 652ms/step - loss: 0.3199 - accuracy: 0.9884\n",
            "Epoch 68/100\n",
            "3/3 [==============================] - 2s 641ms/step - loss: 0.3042 - accuracy: 1.0000\n",
            "Epoch 69/100\n",
            "3/3 [==============================] - 2s 649ms/step - loss: 0.3074 - accuracy: 0.9884\n",
            "Epoch 70/100\n",
            "3/3 [==============================] - 2s 643ms/step - loss: 0.3015 - accuracy: 0.9884\n",
            "Epoch 71/100\n",
            "3/3 [==============================] - 2s 649ms/step - loss: 0.2852 - accuracy: 1.0000\n",
            "Epoch 72/100\n",
            "3/3 [==============================] - 2s 652ms/step - loss: 0.2794 - accuracy: 1.0000\n",
            "Epoch 73/100\n",
            "3/3 [==============================] - 2s 633ms/step - loss: 0.2764 - accuracy: 1.0000\n",
            "Epoch 74/100\n",
            "3/3 [==============================] - 2s 646ms/step - loss: 0.2686 - accuracy: 1.0000\n",
            "Epoch 75/100\n",
            "3/3 [==============================] - 2s 635ms/step - loss: 0.2654 - accuracy: 1.0000\n",
            "Epoch 76/100\n",
            "3/3 [==============================] - 2s 636ms/step - loss: 0.2624 - accuracy: 1.0000\n",
            "Epoch 77/100\n",
            "3/3 [==============================] - 2s 660ms/step - loss: 0.2559 - accuracy: 1.0000\n",
            "Epoch 78/100\n",
            "3/3 [==============================] - 2s 641ms/step - loss: 0.2503 - accuracy: 1.0000\n",
            "Epoch 79/100\n",
            "3/3 [==============================] - 2s 660ms/step - loss: 0.2492 - accuracy: 1.0000\n",
            "Epoch 80/100\n",
            "3/3 [==============================] - 2s 690ms/step - loss: 0.2490 - accuracy: 1.0000\n",
            "Epoch 81/100\n",
            "3/3 [==============================] - 2s 672ms/step - loss: 0.2430 - accuracy: 1.0000\n",
            "Epoch 82/100\n",
            "3/3 [==============================] - 2s 672ms/step - loss: 0.2505 - accuracy: 1.0000\n",
            "Epoch 83/100\n",
            "3/3 [==============================] - 2s 653ms/step - loss: 0.2506 - accuracy: 1.0000\n",
            "Epoch 84/100\n",
            "3/3 [==============================] - 2s 653ms/step - loss: 0.2501 - accuracy: 0.9884\n",
            "Epoch 85/100\n",
            "3/3 [==============================] - 2s 661ms/step - loss: 0.2297 - accuracy: 1.0000\n",
            "Epoch 86/100\n",
            "3/3 [==============================] - 2s 634ms/step - loss: 0.2296 - accuracy: 1.0000\n",
            "Epoch 87/100\n",
            "3/3 [==============================] - 2s 641ms/step - loss: 0.2330 - accuracy: 1.0000\n",
            "Epoch 88/100\n",
            "3/3 [==============================] - 2s 647ms/step - loss: 0.2161 - accuracy: 1.0000\n",
            "Epoch 89/100\n",
            "3/3 [==============================] - 2s 640ms/step - loss: 0.2227 - accuracy: 1.0000\n",
            "Epoch 90/100\n",
            "3/3 [==============================] - 2s 653ms/step - loss: 0.2169 - accuracy: 1.0000\n",
            "Epoch 91/100\n",
            "3/3 [==============================] - 2s 658ms/step - loss: 0.2091 - accuracy: 1.0000\n",
            "Epoch 92/100\n",
            "3/3 [==============================] - 2s 650ms/step - loss: 0.2142 - accuracy: 1.0000\n",
            "Epoch 93/100\n",
            "3/3 [==============================] - 2s 663ms/step - loss: 0.2234 - accuracy: 1.0000\n",
            "Epoch 94/100\n",
            "3/3 [==============================] - 2s 656ms/step - loss: 0.2106 - accuracy: 1.0000\n",
            "Epoch 95/100\n",
            "3/3 [==============================] - 2s 643ms/step - loss: 0.2054 - accuracy: 1.0000\n",
            "Epoch 96/100\n",
            "3/3 [==============================] - 2s 662ms/step - loss: 0.2091 - accuracy: 1.0000\n",
            "Epoch 97/100\n",
            "3/3 [==============================] - 2s 709ms/step - loss: 0.2079 - accuracy: 1.0000\n",
            "Epoch 98/100\n",
            "3/3 [==============================] - 2s 693ms/step - loss: 0.1928 - accuracy: 1.0000\n",
            "Epoch 99/100\n",
            "3/3 [==============================] - 2s 667ms/step - loss: 0.1913 - accuracy: 1.0000\n",
            "Epoch 100/100\n",
            "3/3 [==============================] - 2s 656ms/step - loss: 0.1907 - accuracy: 1.0000\n"
          ],
          "name": "stdout"
        }
      ]
    },
    {
      "cell_type": "code",
      "metadata": {
        "id": "P_p_mQ-gvsqw",
        "colab": {
          "base_uri": "https://localhost:8080/",
          "height": 544
        },
        "outputId": "7aa8e63d-8eb2-4017-f013-301464958fd9"
      },
      "source": [
        "# Plotting accuracy and loss\n",
        "import matplotlib.pyplot as plt\n",
        "acc = history.history['accuracy']\n",
        "loss = history.history['loss']\n",
        "\n",
        "epochs = range(len(acc))\n",
        "\n",
        "plt.plot(epochs, acc, 'b', label='Training accuracy')\n",
        "plt.title('Training accuracy')\n",
        "\n",
        "plt.figure()\n",
        "\n",
        "plt.plot(epochs, loss, 'y', label='Training Loss')\n",
        "plt.title('Training loss')\n",
        "plt.legend()\n",
        "\n",
        "plt.show()"
      ],
      "execution_count": null,
      "outputs": [
        {
          "output_type": "display_data",
          "data": {
            "image/png": "[encoded data removed]",
            "text/plain": [
              "<Figure size 432x288 with 1 Axes>"
            ]
          },
          "metadata": {
            "tags": [],
            "needs_background": "light"
          }
        },
        {
          "output_type": "display_data",
          "data": {
            "image/png": "[encoded data removed]",
            "text/plain": [
              "<Figure size 432x288 with 1 Axes>"
            ]
          },
          "metadata": {
            "tags": [],
            "needs_background": "light"
          }
        }
      ]
    },
    {
      "cell_type": "code",
      "metadata": {
        "colab": {
          "base_uri": "https://localhost:8080/"
        },
        "id": "_zWU25u6mCOy",
        "outputId": "a4b11a2f-c274-4337-b444-6395542f7f65"
      },
      "source": [
        "# Inference\n",
        "text = \"min saya kehilangan ktp\"\n",
        "seq =  tokenizer.texts_to_sequences([text])\n",
        "pad = pad_sequences(seq, maxlen=max_length, padding=padding_type, truncating=trunc_type)\n",
        "predicted = np.argmax(model.predict(pad, verbose=0))\n",
        "predicted"
      ],
      "execution_count": null,
      "outputs": [
        {
          "output_type": "execute_result",
          "data": {
            "text/plain": [
              "4"
            ]
          },
          "metadata": {
            "tags": []
          },
          "execution_count": 16
        }
      ]
    },
    {
      "cell_type": "code",
      "metadata": {
        "id": "GFjc5eDBfzib"
      },
      "source": [
        "!pip install tensorflowjs"
      ],
      "execution_count": null,
      "outputs": []
    },
    {
      "cell_type": "code",
      "metadata": {
        "id": "c7Z3h4zSVEb3"
      },
      "source": [
        "# Saving ML model\n",
        "import time\n",
        "saved_model_path = \"./{}.h5\".format(int(time.time()))\n",
        "\n",
        "model.save(saved_model_path)"
      ],
      "execution_count": null,
      "outputs": []
    },
    {
      "cell_type": "code",
      "metadata": {
        "colab": {
          "base_uri": "https://localhost:8080/"
        },
        "id": "3IACPaXTVMwj",
        "outputId": "874b21a2-1c3a-46b9-97e2-cfd22e7d7d79"
      },
      "source": [
        "# Import model ke json\n",
        "!tensorflowjs_converter --input_format=keras {saved_model_path} ./"
      ],
      "execution_count": null,
      "outputs": [
        {
          "output_type": "stream",
          "text": [
            "2021-05-31 02:50:56.430745: I tensorflow/stream_executor/platform/default/dso_loader.cc:53] Successfully opened dynamic library libcudart.so.11.0\n"
          ],
          "name": "stdout"
        }
      ]
    }
  ]
}